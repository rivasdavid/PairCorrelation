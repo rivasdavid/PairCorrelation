{
 "cells": [
  {
   "cell_type": "markdown",
   "metadata": {},
   "source": [
    "# Pair Correlation"
   ]
  },
  {
   "cell_type": "markdown",
   "metadata": {},
   "source": [
    "Given coordinates of particles in an image, find the average pair correlation (essentially the average number of particles a distance r to r + dr away from any refernce particle divided by the average number density in the entire field of view, which is also a relative probability of finding a particle in that bin. If g(r) > 1, there are more particles at a distance r compared to the average number density of particles.).\n",
    "\n",
    "Do this by counting the number of particles that are a given distance away from a reference particle and repeat for all particles in the image. Then find the area within each radial bin and divide the number of particles that were counted in each bin by the total area to find the average particle density (the pair correlation, g(r))"
   ]
  },
  {
   "cell_type": "code",
   "execution_count": 31,
   "metadata": {},
   "outputs": [],
   "source": [
    "import numpy as np\n",
    "%matplotlib inline\n",
    "import matplotlib as mpl\n",
    "import matplotlib.pyplot as plt"
   ]
  },
  {
   "cell_type": "markdown",
   "metadata": {},
   "source": [
    "Calculates the area in each radial bin between each bin edge given the x and y dimensions of the image and the coordinates of the point of reference:"
   ]
  },
  {
   "cell_type": "code",
   "execution_count": 4,
   "metadata": {},
   "outputs": [],
   "source": [
    "def areaCircularBins2(ximgDim, yimgDim, xcoord, ycoord, binedges):\n",
    "    # ximgDim: the width of the rectangular image area\n",
    "    # yimgDim: the height of the rectangular image area\n",
    "    # xcoord: the x-coordinate of the reference particle\n",
    "    # ycoord: the y-coordinate of the reference particle\n",
    "    # binedges: a numpy array of bin edges secifying the range of radial distances \n",
    "    # over which to count the number of particles and to find and sum the area \n",
    "    \n",
    "    numbins = len(binedges)-1\n",
    "    Totarea = np.zeros(numbins)\n",
    "    \n",
    "\n",
    "    for j in range(1, numbins + 1):\n",
    "        rsmall = binedges[j - 1]\n",
    "        rbig = binedges[j]\n",
    "\n",
    "        xL = xcoord\n",
    "        yB = yimgDim - ycoord\n",
    "        xR = ximgDim - xcoord\n",
    "        yT = ycoord\n",
    "\n",
    "        area1tot = 0\n",
    "\n",
    "        if xL**2 + yB**2 > rsmall**2:\n",
    "            area1small = np.pi * rsmall**2 / 4\n",
    "\n",
    "            if xL < rsmall:\n",
    "                area1small += (xL * np.sqrt(rsmall**2 - xL**2) - rsmall**2 * np.arccos(xL / rsmall)) / 2\n",
    "\n",
    "            if yB < rsmall:\n",
    "                area1small += (yB * np.sqrt(rsmall**2 - yB**2) - rsmall**2 * np.arccos(yB / rsmall)) / 2\n",
    "        else:\n",
    "            area1small = xL * yB\n",
    "\n",
    "        area1big = 0\n",
    "\n",
    "        if xL**2 + yB**2 > rbig**2:\n",
    "            area1big = np.pi * rbig**2 / 4\n",
    "\n",
    "            if xL < rbig:\n",
    "                area1big += (xL * np.sqrt(rbig**2 - xL**2) - rbig**2 * np.arccos(xL / rbig)) / 2\n",
    "\n",
    "            if yB < rbig:\n",
    "                area1big += (yB * np.sqrt(rbig**2 - yB**2) - rbig**2 * np.arccos(yB / rbig)) / 2\n",
    "        else:\n",
    "            area1big = xL * yB\n",
    "\n",
    "        area1tot = area1big - area1small\n",
    "\n",
    "        area2tot = 0\n",
    "\n",
    "        if xL**2 + yT**2 > rsmall**2:\n",
    "            area2small = np.pi * rsmall**2 / 4\n",
    "\n",
    "            if xL < rsmall:\n",
    "                area2small += (xL * np.sqrt(rsmall**2 - xL**2) - rsmall**2 * np.arccos(xL / rsmall)) / 2\n",
    "\n",
    "            if yT < rsmall:\n",
    "                area2small += (yT * np.sqrt(rsmall**2 - yT**2) - rsmall**2 * np.arccos(yT / rsmall)) / 2\n",
    "        else:\n",
    "            area2small = xL * yT\n",
    "\n",
    "        area2big = 0\n",
    "\n",
    "        if xL**2 + yT**2 > rbig**2:\n",
    "            area2big = np.pi * rbig**2 / 4\n",
    "\n",
    "            if xL < rbig:\n",
    "                area2big += (xL * np.sqrt(rbig**2 - xL**2) - rbig**2 * np.arccos(xL / rbig)) / 2\n",
    "\n",
    "            if yT < rbig:\n",
    "                area2big += (yT * np.sqrt(rbig**2 - yT**2) - rbig**2 * np.arccos(yT / rbig)) / 2\n",
    "        else:\n",
    "            area2big = xL * yT\n",
    "\n",
    "        area2tot = area2big - area2small\n",
    "\n",
    "        area3tot = 0\n",
    "\n",
    "        if xR**2 + yT**2 > rsmall**2:\n",
    "            area3small = np.pi * rsmall**2 / 4\n",
    "\n",
    "            if xR < rsmall:\n",
    "                area3small += (xR * np.sqrt(rsmall**2 - xR**2) - rsmall**2 * np.arccos(xR / rsmall)) / 2\n",
    "\n",
    "            if yT < rsmall:\n",
    "                area3small += (yT * np.sqrt(rsmall**2 - yT**2) - rsmall**2 * np.arccos(yT / rsmall)) / 2\n",
    "        else:\n",
    "            area3small = xR * yT\n",
    "\n",
    "        area3big = 0\n",
    "\n",
    "        if xR**2 + yT**2 > rbig**2:\n",
    "            area3big = np.pi * rbig**2 / 4\n",
    "\n",
    "            if xR < rbig:\n",
    "                area3big += (xR * np.sqrt(rbig**2 - xR**2) - rbig**2 * np.arccos(xR / rbig)) / 2\n",
    "\n",
    "            if yT < rbig:\n",
    "                area3big += (yT * np.sqrt(rbig**2 - yT**2) - rbig**2 * np.arccos(yT / rbig)) / 2\n",
    "        else:\n",
    "            area3big = xR * yT\n",
    "\n",
    "        area3tot = area3big - area3small\n",
    "\n",
    "        area4tot = 0\n",
    "\n",
    "        if xR**2 + yB**2 > rsmall**2:\n",
    "            area4small = np.pi * rsmall**2 / 4\n",
    "\n",
    "            if xR < rsmall:\n",
    "                area4small += (xR * np.sqrt(rsmall**2 - xR**2) - rsmall**2 * np.arccos(xR / rsmall)) / 2\n",
    "\n",
    "            if yB < rsmall:\n",
    "                area4small += (yB * np.sqrt(rsmall**2 - yB**2) - rsmall**2 * np.arccos(yB / rsmall)) / 2\n",
    "        else:\n",
    "            area4small = xR * yB\n",
    "\n",
    "        area4big = 0\n",
    "\n",
    "        if xR**2 + yB**2 > rbig**2:\n",
    "            area4big = np.pi * rbig**2 / 4\n",
    "\n",
    "            if xR < rbig:\n",
    "                area4big += (xR * np.sqrt(rbig**2 - xR**2) - rbig**2 * np.arccos(xR / rbig)) / 2\n",
    "\n",
    "            if yB < rbig:\n",
    "                area4big += (yB * np.sqrt(rbig**2 - yB**2) - rbig**2 * np.arccos(yB / rbig)) / 2\n",
    "        else:\n",
    "            area4big = xR * yB\n",
    "\n",
    "        area4tot = area4big - area4small\n",
    "\n",
    "        Totarea[j - 1] = Totarea[j - 1] + area1tot + area2tot + area3tot + area4tot\n",
    "\n",
    "    return Totarea"
   ]
  },
  {
   "cell_type": "markdown",
   "metadata": {},
   "source": [
    "Finds the average pair correlation: "
   ]
  },
  {
   "cell_type": "code",
   "execution_count": 34,
   "metadata": {},
   "outputs": [],
   "source": [
    "def pairCorrelation(ximgDim, yimgDim, xcoords, ycoords, binedges):\n",
    "# xcoords: numpy array of x-coordinates of all the particles in the image\n",
    "# ycoords: numpy array of y-coordinates of all the particles in the image\n",
    "# ximgDim: the width of the rectangular image area\n",
    "# yimgDim: the height of the rectangular image area\n",
    "# binedges: a numpy array of bin edges secifying the range of radial distances \n",
    "\n",
    "    numpart = len(xcoords)\n",
    "\n",
    "    TotareaSum = np.zeros(len(binedges)-1)\n",
    "    for jj in range(numpart):\n",
    "        TotareaSum = TotareaSum + areaCircularBins2(ximgDim, yimgDim,xcoords[jj],ycoords[jj],binedges)\n",
    "\n",
    "    xmat = xcoords\n",
    "    xmat = np.repeat(xmat,numpart)\n",
    "    xmat1 = np.transpose(np.reshape(xmat,[numpart,numpart]))\n",
    "    xmat2 = np.reshape(xmat,[numpart,numpart])\n",
    "    xmatDiff = xmat1 - xmat2\n",
    "\n",
    "    ymat = ycoords\n",
    "    ymat = np.repeat(ymat,numpart)\n",
    "    ymat1 = np.transpose(np.reshape(ymat,[numpart,numpart]))\n",
    "    ymat2 = np.reshape(ymat,[numpart,numpart])\n",
    "    ymatDiff = ymat1 - ymat2\n",
    "    distMat = np.sqrt(xmatDiff**2+ymatDiff**2)\n",
    "\n",
    "    histDist = np.histogram(distMat,binedges)\n",
    "\n",
    "    counts = histDist[0]\n",
    "\n",
    "    particleDensity = counts/TotareaSum\n",
    "    \n",
    "    ImageArea = ximgDim*yimgDim\n",
    "    \n",
    "    gr = particleDensity/(numpart/ImageArea) #divide density within bin by overall density to get g(r), essentially probability density \n",
    "\n",
    "    bincenters = (binedges[0:-1] + binedges[1:len(binedges)])/2\n",
    "\n",
    "    particleDensityErr = np.sqrt(counts/2)/(TotareaSum/2) #divide by 2 because all distances and areas were double counted\n",
    "    \n",
    "    grErr = particleDensityErr/(numpart/ImageArea)\n",
    "    \n",
    "    return [gr,grErr,bincenters]"
   ]
  },
  {
   "cell_type": "markdown",
   "metadata": {},
   "source": [
    "### Example:"
   ]
  },
  {
   "cell_type": "code",
   "execution_count": 6,
   "metadata": {},
   "outputs": [],
   "source": [
    "import random"
   ]
  },
  {
   "cell_type": "code",
   "execution_count": 45,
   "metadata": {},
   "outputs": [],
   "source": [
    "xcoords = np.zeros(200)\n",
    "ycoords = np.zeros(200)\n",
    "for j in range(200):\n",
    "    xcoords[j] = random.uniform(0, 2448)\n",
    "    ycoords[j] = random.uniform(0, 2048)"
   ]
  },
  {
   "cell_type": "code",
   "execution_count": 46,
   "metadata": {},
   "outputs": [
    {
     "data": {
      "text/plain": [
       "<matplotlib.collections.PathCollection at 0x16e6e1b1f48>"
      ]
     },
     "execution_count": 46,
     "metadata": {},
     "output_type": "execute_result"
    },
    {
     "data": {
      "image/png": "[encoded data removed]",
      "text/plain": [
       "<Figure size 432x288 with 1 Axes>"
      ]
     },
     "metadata": {
      "needs_background": "light"
     },
     "output_type": "display_data"
    }
   ],
   "source": [
    "plt.scatter(xcoords,ycoords,marker='o')"
   ]
  },
  {
   "cell_type": "code",
   "execution_count": 47,
   "metadata": {},
   "outputs": [],
   "source": [
    "binedgesum = np.arange(0.1,429,5)\n",
    "binedgespx = binedgesum/(0.67/5)"
   ]
  },
  {
   "cell_type": "code",
   "execution_count": 48,
   "metadata": {},
   "outputs": [
    {
     "name": "stderr",
     "output_type": "stream",
     "text": [
      "C:\\Users\\driva\\anaconda3\\lib\\site-packages\\ipykernel_launcher.py:31: RuntimeWarning: invalid value encountered in true_divide\n",
      "C:\\Users\\driva\\anaconda3\\lib\\site-packages\\ipykernel_launcher.py:39: RuntimeWarning: invalid value encountered in true_divide\n"
     ]
    }
   ],
   "source": [
    "[gr,grErr,bincenters] = pairCorrelation(2448, 2048, xcoords, ycoords, binedgespx)"
   ]
  },
  {
   "cell_type": "code",
   "execution_count": 18,
   "metadata": {},
   "outputs": [],
   "source": [
    "from matplotlib.ticker import ScalarFormatter"
   ]
  },
  {
   "cell_type": "code",
   "execution_count": 50,
   "metadata": {},
   "outputs": [
    {
     "data": {
      "image/png": "[encoded data removed]",
      "text/plain": [
       "<Figure size 432x288 with 1 Axes>"
      ]
     },
     "metadata": {
      "needs_background": "light"
     },
     "output_type": "display_data"
    }
   ],
   "source": [
    "bincentersum = bincenters*(0.67/5) # example of converting from pixels to microns\n",
    "\n",
    "plt.errorbar(bincentersum,gr, yerr=grErr,marker='o', linestyle='-', capsize=5)\n",
    "plt.xlabel(r'r $(\\mu m)$', fontsize=18)\n",
    "plt.ylabel('g(r)',fontsize=18)\n",
    "plt.yticks(fontsize=14)\n",
    "plt.xticks(fontsize=14)\n",
    "\n",
    "plt.xlim([-10,250])\n",
    "plt.ylim([0,2])\n",
    "\n",
    "# Adjust the thickness of the frame\n",
    "ax = plt.gca()\n",
    "for spine in ax.spines.values():\n",
    "    spine.set_linewidth(2)  # Set the linewidth to your desired thickness\n",
    "\n",
    "plt.show()"
   ]
  },
  {
   "cell_type": "markdown",
   "metadata": {},
   "source": [
    "Since the distribution was random, we expect g(r) to be constant and equal to 1 since the probability of finding a particle in any bin is the same as any other bin"
   ]
  },
  {
   "cell_type": "code",
   "execution_count": null,
   "metadata": {},
   "outputs": [],
   "source": []
  }
 ],
 "metadata": {
  "kernelspec": {
   "display_name": "Python 3",
   "language": "python",
   "name": "python3"
  },
  "language_info": {
   "codemirror_mode": {
    "name": "ipython",
    "version": 3
   },
   "file_extension": ".py",
   "mimetype": "text/x-python",
   "name": "python",
   "nbconvert_exporter": "python",
   "pygments_lexer": "ipython3",
   "version": "3.7.6"
  }
 },
 "nbformat": 4,
 "nbformat_minor": 4
}
